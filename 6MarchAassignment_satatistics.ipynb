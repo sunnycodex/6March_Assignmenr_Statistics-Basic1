{
 "cells": [
  {
   "cell_type": "code",
   "execution_count": 1,
   "id": "5990b1ef-d423-46f7-b8d7-c9dfc2ae4b4e",
   "metadata": {},
   "outputs": [],
   "source": [
    "#1.\n",
    "#Statistics is the science of collecting, organizing and analyzing data."
   ]
  },
  {
   "cell_type": "code",
   "execution_count": 2,
   "id": "b5d6187c-c82b-40cb-b82a-b5b71c5b2759",
   "metadata": {},
   "outputs": [
    {
     "data": {
      "text/plain": [
       "' Types of statistics :\\n    1)Descriptive : Collecting data described in summerized way.like average height of a class.\\n    2) Inferential: , we make use of it in order to explain the descriptive kind.'"
      ]
     },
     "execution_count": 2,
     "metadata": {},
     "output_type": "execute_result"
    }
   ],
   "source": [
    "#2.\n",
    "\"\"\" Types of statistics :\n",
    "    1)Descriptive : Collecting data described in summerized way.like average height of a class.\n",
    "    2) Inferential: , we make use of it in order to explain the descriptive kind.\"\"\""
   ]
  },
  {
   "cell_type": "code",
   "execution_count": 3,
   "id": "8977120d-46a8-4d74-999e-ca215666b99c",
   "metadata": {},
   "outputs": [
    {
     "data": {
      "text/plain": [
       "'Type of data:\\n1) Quantitative and 2) Qualitative\\n\\n1) Quantitiative:\\n                 -Discrete : Discrete information contains only a finite number of possible values. Example\\n                   bank account.\\n                 \\n                 -Continuous: Continuous data is data that can be calculated. It has an infinite number of probable\\n                   values that can be selected within a given specific range.\\n2) Qualitative:\\n                - Nominal: It does not contain rank. like:Gender, blood group.\\n                \\n                - Ordinal: It follows natural order. Example Customer feedback.\\n'"
      ]
     },
     "execution_count": 3,
     "metadata": {},
     "output_type": "execute_result"
    }
   ],
   "source": [
    "#3.\n",
    "\"\"\"Type of data:\n",
    "1) Quantitative and 2) Qualitative\n",
    "\n",
    "1) Quantitative:\n",
    "                 -Discrete : Discrete information contains only a finite number of possible values. Example\n",
    "                   bank account.\n",
    "                 \n",
    "                 -Continuous: Continuous data is data that can be calculated. It has an infinite number of probable\n",
    "                   values that can be selected within a given specific range.\n",
    "2) Qualitative:\n",
    "                - Nominal: It does not contain rank. like:Gender, blood group.\n",
    "                \n",
    "                - Ordinal: It follows natural order. Example Customer feedback.\n",
    "\"\"\""
   ]
  },
  {
   "cell_type": "code",
   "execution_count": 4,
   "id": "5877ed2e-8afd-4a83-b091-fd45e14e20b6",
   "metadata": {},
   "outputs": [
    {
     "data": {
      "text/plain": [
       "'(i)\\tGrading in exam: A+, A, B+, B, C+, C, D - Qualitative \\n   (ii)\\tColour of mangoes: yellow, green, orange, red - Qualitative\\n   (iii)\\tHeight data of a class: [178.9, 179, 179.5, 176, 177.2, 178.3, 175.8,...] - Quantitative\\n   (iv)\\tNumber of mangoes exported by a farm: [500, 600, 478, 672, …] - Quantitative\\n'"
      ]
     },
     "execution_count": 4,
     "metadata": {},
     "output_type": "execute_result"
    }
   ],
   "source": [
    "#4.\n",
    "\"\"\"(i)\tGrading in exam: A+, A, B+, B, C+, C, D - Qualitative \n",
    "   (ii)\tColour of mangoes: yellow, green, orange, red - Qualitative\n",
    "   (iii)\tHeight data of a class: [178.9, 179, 179.5, 176, 177.2, 178.3, 175.8,...] - Quantitative\n",
    "   (iv)\tNumber of mangoes exported by a farm: [500, 600, 478, 672, …] - Quantitative\n",
    "\"\"\""
   ]
  },
  {
   "cell_type": "code",
   "execution_count": 5,
   "id": "e2b89d52-3096-4c0c-8ca7-1648b8a691fc",
   "metadata": {},
   "outputs": [
    {
     "data": {
      "text/plain": [
       "'Level of measurment describe how a variable is measured and waht kind of methametical \\n   operations can be perfomed on it.\\n   \\n   1) Nominal Scale = Gender\\n   2) Oridinal Sacle = App rating\\n   3) Interval Scale = Test Score\\n   4) Ration Sclae = Height'"
      ]
     },
     "execution_count": 5,
     "metadata": {},
     "output_type": "execute_result"
    }
   ],
   "source": [
    "#5.\n",
    "\"\"\"Level of measurment describe how a variable is measured and waht kind of methametical \n",
    "   operations can be perfomed on it.\n",
    "   \n",
    "   1) Nominal Scale = Gender\n",
    "   2) Oridinal Sacle = App rating\n",
    "   3) Interval Scale = Test Score\n",
    "   4) Ration Sclae = Height\"\"\""
   ]
  },
  {
   "cell_type": "code",
   "execution_count": 6,
   "id": "4779ca7e-b0b0-45d0-99d6-92f89a051b6e",
   "metadata": {},
   "outputs": [
    {
     "data": {
      "text/plain": [
       "\"\\nUnderstanding the level of measurement is crucial when analyzing data because it determines \\nthe type of statistical analyses and interpretations that can be applied to the data. \\nThe level of measurement refers to the nature and properties of the data, which can be classified\\ninto four main types: nominal, ordinal, interval, and ratio.\\n\\nFor example, let's say you have a dataset that contains information about the height and weight of a group of people. \\nIf the height and weight variables are measured at the ratio level, you can calculate the mean, median, \\nand mode for both variables. You can also calculate the standard deviation, variance, and range for both \\nvariables. However, if the height and weight variables are measured at the nominal level, \\nyou can only calculate the mode for both variables. You cannot calculate the mean, median, standard deviation, \\nvariance, or range for nominal data¹. This is why it is important to understand the level of measurement \\nwhen analyzing data. It helps you determine what statistical analyses are appropriate for your data.\\n\\n\""
      ]
     },
     "execution_count": 6,
     "metadata": {},
     "output_type": "execute_result"
    }
   ],
   "source": [
    "#6\n",
    "\"\"\"\n",
    "Understanding the level of measurement is crucial when analyzing data because it determines \n",
    "the type of statistical analyses and interpretations that can be applied to the data. \n",
    "The level of measurement refers to the nature and properties of the data, which can be classified\n",
    "into four main types: nominal, ordinal, interval, and ratio.\n",
    "\n",
    "For example, let's say you have a dataset that contains information about the height and weight of a group of people. \n",
    "If the height and weight variables are measured at the ratio level, you can calculate the mean, median, \n",
    "and mode for both variables. You can also calculate the standard deviation, variance, and range for both \n",
    "variables. However, if the height and weight variables are measured at the nominal level, \n",
    "you can only calculate the mode for both variables. You cannot calculate the mean, median, standard deviation, \n",
    "variance, or range for nominal data¹. This is why it is important to understand the level of measurement \n",
    "when analyzing data. It helps you determine what statistical analyses are appropriate for your data.\n",
    "\n",
    "\"\"\""
   ]
  },
  {
   "cell_type": "code",
   "execution_count": null,
   "id": "c5d4c476-2179-4145-a4a7-10388f7c1e3d",
   "metadata": {},
   "outputs": [],
   "source": [
    "#7\n",
    "\"\"\"Nominal data can’t be quantified, neither they have any intrinsic ordering where as Ordinal data gives some \n",
    "   kind of sequential order by their position on the scale.\n",
    "   \n",
    "   Nominal data is qualitative data or categorical data.  Ordinal data is said to be “in-between” qualitative \n",
    "                                                           data and quantitative data.\n",
    "   \n",
    "   They don’t provide any quantitative value, neither      \n",
    "    can we perform any arithmetical operation.             Ordinal data provide sequence and can assign numbers\n",
    "                                                           to ordinal data but cannot perform the arithmetical operation.\n",
    "   \n",
    "   Nominal data cannot be used to compare with one another.   Ordinal data can help to compare one item with \n",
    "                                                               another by ranking or ordering\"\"\"\n",
    "   "
   ]
  },
  {
   "cell_type": "code",
   "execution_count": null,
   "id": "dd701fca-44df-42fe-a1d9-e9c518c99641",
   "metadata": {},
   "outputs": [],
   "source": [
    "#8\n",
    "\"\"\" Bar plot can be used to display data in terms of range\"\"\"\n",
    "\n"
   ]
  },
  {
   "cell_type": "code",
   "execution_count": null,
   "id": "d84f857f-108c-462b-8ad7-cb201ad762bb",
   "metadata": {},
   "outputs": [],
   "source": [
    "#9\n",
    "\"\"\"Descriptive statistics involve methods for summarizing and describing the main features of a dataset without \n",
    "making any inferences or drawing conclusions beyond the data itself. The goal of descriptive statistics is to \n",
    "provide a clear and concise summary of the data to understand its characteristics and patterns.\n",
    "Example: Mean, Median, and Standard Deviation\n",
    "Suppose you have a dataset of 100 test scores from a class:\n",
    "Exaple:\n",
    "87, 92, 78, 95, 88, 90, 85, 91, 84, 89, ... (and so on).\n",
    "\n",
    "To describe this data descriptively, you can calculate the mean, median, and standard deviation. The mean represents \n",
    "the average score, the median represents the middle value when the scores are ordered, and the standard \n",
    "deviation gives a measure of the spread or dispersion of the scores around the mean.\n",
    "\n",
    "Usage: Descriptive statistics are used to summarize data to gain insights into central tendencies, variability, and \n",
    "distributions.\n",
    "\n",
    "Inferential statistics, on the other hand, involve making predictions, inferences, or generalizations about a \n",
    "population based on a sample of data. The goal is to draw conclusions beyond the specific data that was collected\n",
    "and to make statements about a larger population.\n",
    "\n",
    "Example:\n",
    "\n",
    "Suppose a pharmaceutical company develops a new drug to reduce blood pressure. They conduct a clinical trial with\n",
    "200 participants, randomly assigning half to the treatment group receiving the new drug and the other half to a \n",
    "control group receiving a placebo. After the trial, they compare the average blood pressure between the two groups.\n",
    "\n",
    "Using inferential statistics (specifically hypothesis testing), they can test whether there is a statistically \n",
    "significant difference in blood pressure between the two groups. The results of the hypothesis test will allow \n",
    "them to infer whether the new drug is effective in reducing blood pressure in the larger population beyond the sample.\n",
    "\n",
    "Usage: Inferential statistics are employed to make predictions, draw conclusions, and generalize findings from \n",
    "a sample to a larger population\n",
    "\"\"\""
   ]
  },
  {
   "cell_type": "code",
   "execution_count": null,
   "id": "44e85bbc-5eda-4956-91ca-1069652bbbc7",
   "metadata": {},
   "outputs": [],
   "source": [
    "#10.\n",
    "\"\"\"Measures of Central Tendency: Mean .Median and Mode.\n",
    "\n",
    "   Measures of Variability: Range ,Variance and Standrard deviation.\n",
    "   \n",
    "   The mean, median, and mode provide different perspectives on the central tendency of the data, allowing you to \n",
    "   understand where the data tends to cluster.\n",
    "   \n",
    "   The range, variance, and standard deviation provide insights into the variability or spread of the data, indicating \n",
    "   how much the values deviate from the central tendency.\"\"\""
   ]
  },
  {
   "cell_type": "code",
   "execution_count": null,
   "id": "13332d7a-af14-4266-ba22-1a55a1d16cfb",
   "metadata": {},
   "outputs": [],
   "source": []
  }
 ],
 "metadata": {
  "kernelspec": {
   "display_name": "Python 3 (ipykernel)",
   "language": "python",
   "name": "python3"
  },
  "language_info": {
   "codemirror_mode": {
    "name": "ipython",
    "version": 3
   },
   "file_extension": ".py",
   "mimetype": "text/x-python",
   "name": "python",
   "nbconvert_exporter": "python",
   "pygments_lexer": "ipython3",
   "version": "3.10.8"
  }
 },
 "nbformat": 4,
 "nbformat_minor": 5
}
